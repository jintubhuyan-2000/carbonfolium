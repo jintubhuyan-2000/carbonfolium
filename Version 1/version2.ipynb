{
 "cells": [
  {
   "cell_type": "code",
   "execution_count": 1,
   "metadata": {},
   "outputs": [],
   "source": [
    "import folium\n",
    "import rasterio\n",
    "import geopandas as gpd\n",
    "import numpy as np\n",
    "from rasterio.plot import show\n",
    "from rasterio.warp import transform_bounds\n",
    "from matplotlib.colors import LinearSegmentedColormap\n"
   ]
  },
  {
   "cell_type": "code",
   "execution_count": 2,
   "metadata": {},
   "outputs": [],
   "source": [
    "# Paths to the files\n",
    "tiff_files = [\n",
    "    r\"D:\\Acres\\January 2025\\Assignment 9\\East Singbhum\\EastSingbhum\\EastSingbhum_B2.tif\",\n",
    "    r\"D:\\Acres\\January 2025\\Assignment 9\\East Singbhum\\EastSingbhum\\EastSingbhum_B3.tif\",\n",
    "    r\"D:\\Acres\\January 2025\\Assignment 9\\East Singbhum\\EastSingbhum\\EastSingbhum_B4.tif\",\n",
    "    r\"D:\\Acres\\January 2025\\Assignment 9\\East Singbhum\\EastSingbhum\\EastSingbhum_B8.tif\",\n",
    "    r\"D:\\Acres\\January 2025\\Assignment 9\\East Singbhum\\EastSingbhum\\EastSingbhum_B8_contrast.tif\",\n",
    "    r\"D:\\Acres\\January 2025\\Assignment 9\\East Singbhum\\EastSingbhum\\EastSingbhum_B8_corr.tif\",\n",
    "    r\"D:\\Acres\\January 2025\\Assignment 9\\East Singbhum\\EastSingbhum\\EastSingbhum_B8_diss.tif\",\n",
    "    r\"D:\\Acres\\January 2025\\Assignment 9\\East Singbhum\\EastSingbhum\\EastSingbhum_B8_var.tif\",\n",
    "    r\"D:\\Acres\\January 2025\\Assignment 9\\East Singbhum\\EastSingbhum\\EastSingbhum_NDVI.tif\",\n",
    "    r\"D:\\Acres\\January 2025\\Assignment 9\\East Singbhum\\EastSingbhum\\EastSingbhum_NDWI.tif\",\n",
    "    r\"D:\\Acres\\January 2025\\Assignment 9\\East Singbhum\\EastSingbhum\\predicted.tif\",\n",
    "]\n"
   ]
  },
  {
   "cell_type": "code",
   "execution_count": 3,
   "metadata": {},
   "outputs": [],
   "source": [
    "shapefile_path = r\"D:\\Acres\\January 2025\\Assignment 9\\East Singbhum\\EastSingbhumVillage.shp\"\n",
    "\n",
    "# Load the shapefile\n",
    "villages = gpd.read_file(shapefile_path)\n",
    "\n",
    "# Get the list of village names\n",
    "village_names = villages[\"NAME\"].unique()\n"
   ]
  },
  {
   "cell_type": "code",
   "execution_count": 4,
   "metadata": {},
   "outputs": [],
   "source": [
    "# Create a colormap (red to green)\n",
    "cmap = LinearSegmentedColormap.from_list(\"RedGreen\", [\"red\", \"green\"])\n"
   ]
  },
  {
   "cell_type": "code",
   "execution_count": 5,
   "metadata": {},
   "outputs": [],
   "source": [
    "# Function to add TIFF layers to the map\n",
    "def add_tiff_layer(map_obj, tiff_path, layer_name):\n",
    "    with rasterio.open(tiff_path) as src:\n",
    "        band = src.read(1)  # Read the first band\n",
    "        band = np.where(band == src.nodata, np.nan, band)  # Handle nodata values\n",
    "        bounds = transform_bounds(src.crs, \"EPSG:4326\", *src.bounds)\n",
    "\n",
    "        folium.raster_layers.ImageOverlay(\n",
    "            image=band,\n",
    "            bounds=[[bounds[1], bounds[0]], [bounds[3], bounds[2]]],\n",
    "            colormap=lambda x: cmap(x),\n",
    "            name=layer_name,\n",
    "            opacity=0.7\n",
    "        ).add_to(map_obj)"
   ]
  },
  {
   "cell_type": "code",
   "execution_count": 6,
   "metadata": {},
   "outputs": [],
   "source": [
    "# Function to create the map\n",
    "def create_map():\n",
    "    # Initialize the map\n",
    "    center = [villages.geometry.centroid.y.mean(), villages.geometry.centroid.x.mean()]\n",
    "    map_obj = folium.Map(location=center, zoom_start=12)\n",
    "\n",
    "    # Add shapefile layers\n",
    "    folium.GeoJson(\n",
    "        villages,\n",
    "        name=\"Villages\",\n",
    "        style_function=lambda feature: {\n",
    "            'color': 'black', 'weight': 2, 'fillOpacity': 0\n",
    "        },\n",
    "        highlight_function=lambda feature: {\n",
    "            'color': 'red', 'weight': 3\n",
    "        },\n",
    "        tooltip=folium.GeoJsonTooltip(fields=[\"NAME\"], aliases=[\"Village Name\"])\n",
    "    ).add_to(map_obj)\n",
    "\n",
    "    # Add TIFF layers\n",
    "    for tiff in tiff_files:\n",
    "        layer_name = tiff.split(\"\\\\\")[-1]\n",
    "        add_tiff_layer(map_obj, tiff, layer_name)\n",
    "\n",
    "    # Add layer control\n",
    "    folium.LayerControl().add_to(map_obj)\n",
    "\n",
    "    return map_obj\n",
    "\n",
    "# Function to zoom into a village\n",
    "def zoom_to_village(map_obj, village_name):\n",
    "    selected_village = villages[villages[\"NAME\"] == village_name]\n",
    "    if not selected_village.empty:\n",
    "        bounds = selected_village.total_bounds\n",
    "        map_obj.fit_bounds([[bounds[1], bounds[0]], [bounds[3], bounds[2]]])\n"
   ]
  },
  {
   "cell_type": "code",
   "execution_count": null,
   "metadata": {},
   "outputs": [],
   "source": [
    "# Create the map\n",
    "map_view = create_map()\n",
    "\n",
    "\n"
   ]
  },
  {
   "cell_type": "code",
   "execution_count": null,
   "metadata": {},
   "outputs": [],
   "source": [
    "# Save the map to an HTML file and display it\n",
    "map_view.save(\"dynamic_map.html\")\n",
    "print(\"Dynamic map saved as 'dynamic_map.html'. Open this file in a browser to view the map.\")"
   ]
  }
 ],
 "metadata": {
  "kernelspec": {
   "display_name": "JintuEnv",
   "language": "python",
   "name": "python3"
  },
  "language_info": {
   "codemirror_mode": {
    "name": "ipython",
    "version": 3
   },
   "file_extension": ".py",
   "mimetype": "text/x-python",
   "name": "python",
   "nbconvert_exporter": "python",
   "pygments_lexer": "ipython3",
   "version": "3.12.4"
  }
 },
 "nbformat": 4,
 "nbformat_minor": 2
}
